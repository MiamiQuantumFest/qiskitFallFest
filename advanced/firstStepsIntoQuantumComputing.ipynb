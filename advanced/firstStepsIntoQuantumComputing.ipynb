{
 "cells": [
  {
   "cell_type": "markdown",
   "metadata": {},
   "source": [
    "Hi there and welcome to the Qiskit Fall Fest!\n",
    "\n",
    "Whether you're a total beginner or a PhD candidate in quantum physics, there is something here for you. Thanks for joining us. 😀\n",
    "\n",
    "As part of the Qiskit Fall Fest, IBM Quantum has created a series of notebooks for you to work through, which include coding challenges and Qiskit tutorials.\n",
    "\n",
    "The Qiskit Fall Fest is a massive event, featuring thousands of students worldwide who are all learning about quantum computing and Qiskit. Just by being here, you're helping to make history. Your participation is helping to shape what the future of the industry will look like. Congratulations and welcome!"
   ]
  },
  {
   "cell_type": "markdown",
   "metadata": {},
   "source": [
    "Open Notebooks\n",
    "This is an Open Notebook, which means it has tutorials and code examples but does not use an auto-grader. There are no requirements you need to meet in order to \"finish\" this notebook. You can use this as a personal learning tool, a group project, or a workshop resource. Each Open Notebook is meant to help you better understand Qiskit and quantum computing in general.\n",
    "\n",
    "Open Notebook A will cover the very first steps of writing a quantum circuit.\n",
    "\n",
    "In each notebook, you will find links to documentation, tutorials, and other helpful resources you might need to solve that particular problem. You can also find most of these resources on IBM's new home for quantum education: IBM Quantum Learning.\n",
    "\n",
    "If you have never used Python before, you will definitely struggle with these notebooks. We recommend you go learn the basics of Python before continuing."
   ]
  },
  {
   "cell_type": "markdown",
   "metadata": {},
   "source": [
    "Setup\n",
    "It should be obvious, but you need to have Qiskit installed to correctly finish each notebook within the Qiskit Fall Fest. Most participants of the Qiskit Fall Fest are likely running this notebook in a cloud-based tool like Google Colab or qBraid, so our instructions are built towards that.\n",
    "\n",
    "Below is some code to install Qiskit within your current environment."
   ]
  },
  {
   "cell_type": "code",
   "execution_count": null,
   "metadata": {},
   "outputs": [],
   "source": [
    "### INSTALL QISKIT inside your cloud-based environment\n",
    "\n",
    "%pip install qiskit[visualization]\n",
    "%pip install qiskit_aer\n",
    "%pip install qiskit_ibm_runtime"
   ]
  },
  {
   "cell_type": "code",
   "execution_count": 2,
   "metadata": {},
   "outputs": [],
   "source": [
    "# Import required Qiskit packages\n",
    "from qiskit import QuantumCircuit\n",
    "from qiskit_aer import AerSimulator  # For quantum circuit simulation\n",
    "from qiskit_ibm_runtime import QiskitRuntimeService\n",
    "from qiskit_ibm_runtime import SamplerV2 as Sampler  # For running on real quantum hardware\n",
    "from qiskit.transpiler.preset_passmanagers import generate_preset_pass_manager  # For circuit optimization"
   ]
  },
  {
   "cell_type": "markdown",
   "metadata": {},
   "source": [
    "Part 1: What is Qiskit?"
   ]
  },
  {
   "cell_type": "markdown",
   "metadata": {},
   "source": [
    "The Qiskit Fall Fest is an amazing event currently happening on your campus with your classmates and friends. However, this is just one small part of the entire Qiskit ecosystem.\n",
    "\n",
    "The Qiskit SDK is the world's most popular software stack for quantum computing, with over 2,000 forks, over 8,000 contributions, and over 3 trillion circuits run.\n",
    "\n",
    "Qiskit first emerged in 2017 as an open-source software development kit (SDK), but since then, it has evolved into a comprehensive software stack delivering the world’s most performant software for building, optimizing, orchestrating, and executing quantum workloads. Today, the Qiskit SDK is just one component in this expanded software stack, but it remains vitally important. Its architecture, capabilities, and emphasis on the circuit model of quantum computation have all heavily informed the development of the rest of the Qiskit software stack.\n",
    "\n",
    "Qiskit allows anyone to easily design experiments and applications and run them on real quantum computers. Qiskit is actively used around the world by beginners, hobbyists, educators, researchers, and commercial companies.\n",
    "\n",
    "Quantum circuits\n",
    "The fundamental unit of Qiskit is the quantum circuit, which is a series of instructions that a quantum computer can use to work with quantum bits of information, also known as qubits. These qubits have special properties that enable quantum computers to approach problems differently than how your laptop or iPhone might. Qiskit is rapidly advancing as a technology -- while you can still manually design your quantum circuits and decide how you want it to run (and there are plenty of good reasons to do so), IBM Quantum also provides you with tools that simplify the process. For the sake of learning, we are going to design a very simple circuit and run it on a simulator.\n",
    "\n",
    "We're breezing through this overview because, honestly, we could spend hours just explaining the basics of quantum information and computation. In fact, IBM Quantum has done this already, producing a written course and a series of video lectures devoted to the topic. If you need a refresher, check them out!"
   ]
  },
  {
   "cell_type": "markdown",
   "metadata": {},
   "source": [
    "Your first quantum circuit\n",
    "Below we have created a quantum circuit with 2 qubits and 2 classical bits using the QuantumCircuit() function. We also included the method qc.draw() which will create a drawing of the circuit for us to see.\n",
    "\n",
    "Notice the horizontal lines next to q0 and q1 -- those are visual timelines that you can use to understand the order in which instructions are sent to each qubit. Every horizontal line represents a different qubit on the quantum computer.\n",
    "\n",
    "You don't need to write any new code in this cell, just run it and see the results. If you're getting an error, make sure Qiskit is installed properly."
   ]
  },
  {
   "cell_type": "code",
   "execution_count": null,
   "metadata": {},
   "outputs": [],
   "source": [
    "# Create a new circuit with 2 qubits and 2 classical bits\n",
    "qc = QuantumCircuit(2, 2)\n",
    "\n",
    "# Draw the empty circuit to visualize the initial state\n",
    "qc.draw('mpl')"
   ]
  },
  {
   "cell_type": "markdown",
   "metadata": {},
   "source": [
    "We have not actually sent any instructions to our qubits yet. Instructions come in the form of gates which are placed on the circuit, corresponding to a particular qubit. If you're unfamiliar with gates, you should check out the IBM Quantum Composer and it's associated documentation. IBM provides a drag-and-drop interface to experiment with different gates and observe their impacts on your quantum circuit. We will not be covering the function of each gate in this notebook.\n",
    "\n",
    "For now we're going to add a Not gate (or an X gate) to qubit 0. We can do this by appending .x() after the name of our QuantumCircuit variable, and passing the desired qubit's number in the parenthesis.\n",
    "\n",
    "In the previous code cell, we saved the QuantumCircuit variable as qc. Jupyter Notebooks remember the order in which you ran your cells, so you don't need to rewrite your previous code in each new cell.\n",
    "\n",
    "Important Note - That means you should be careful to run your cells in order. If you go out of order, your variables and circuits might be confused."
   ]
  },
  {
   "cell_type": "code",
   "execution_count": null,
   "metadata": {},
   "outputs": [],
   "source": [
    "# Apply a NOT (X) gate to qubit 0\n",
    "# This flips the state of qubit 0 from |0⟩ to |1⟩\n",
    "qc.x(0)\n",
    "\n",
    "# Visualize the circuit with the X gate\n",
    "qc.draw(\"mpl\")"
   ]
  },
  {
   "cell_type": "markdown",
   "metadata": {},
   "source": [
    "Next, we can use a Hadamard gate .h() to put a qubit into superposition. Below we are calling the same qc variable which our QuantumCircuit object is saved to, and applying a Hadamard gate to qubit 1."
   ]
  },
  {
   "cell_type": "code",
   "execution_count": null,
   "metadata": {},
   "outputs": [],
   "source": [
    "# Apply a Hadamard (H) gate to qubit 1\n",
    "# This puts qubit 1 into superposition\n",
    "qc.h(1)\n",
    "qc.draw(\"mpl\")"
   ]
  },
  {
   "cell_type": "markdown",
   "metadata": {},
   "source": [
    "Finally, we need a way to tell our quantum computer to measure our qubits and record the results. To do this, we add a \"measure\" gate to our quantum circuit. We can do this with the QuantumCircuit's .measure() method. We've put two arrays inside the method, telling qubits 0 and 1 to be measured to the classical bits 0 and 1."
   ]
  },
  {
   "cell_type": "code",
   "execution_count": null,
   "metadata": {},
   "outputs": [],
   "source": [
    "# Add measurement gates to both qubits\n",
    "# This will collapse their quantum states into classical bits\n",
    "qc.measure([0,1], [0,1])\n",
    "\n",
    "# Visualize the complete circuit with measurements\n",
    "qc.draw(\"mpl\")"
   ]
  },
  {
   "cell_type": "markdown",
   "metadata": {},
   "source": [
    "Hey, just for fun, go back and re-run that cell above. Notice how the output changes. Run it again. We probably don't want all those measure gates stacked up, huh?\n",
    "\n",
    "When we're coding our circuits, it's always a good practice to draw the current circuit to make sure it looks like what we expect. Simple little errors like we just saw can happen easily.\n",
    "\n",
    "So to make sure everything is perfect, let's make a new circuit below."
   ]
  },
  {
   "cell_type": "markdown",
   "metadata": {},
   "source": [
    "Exercise 1\n",
    "We have setup a new circuit using two qubits below, named qc_ex1\n",
    "\n",
    "Your Task: Add four total gates onto your quantum circuit. Mix them on between both qubits. You can use either a NOT gate .x() or a Hadamard gate .h()\n",
    "\n",
    "We have created a new circuit in the below code cell. Now, if you re-run the cell multiple times, the circuit will reset and your gates will not stack on top of each other."
   ]
  },
  {
   "cell_type": "code",
   "execution_count": null,
   "metadata": {},
   "outputs": [],
   "source": [
    "# Create new quantum circuit for Exercise 1 with 2 qubits and 2 classical bits\n",
    "qcEx1 = QuantumCircuit(2,2)\n",
    "\n",
    "### Add your X or H gates onto a qubit below this line\n",
    "### Remember our QuantumCircuit is saved to the qcEx1 variable\n",
    "qcEx1.x(0)  # NOT gate on qubit 0\n",
    "qcEx1.h(1)  # Hadamard gate on qubit 1\n",
    "qcEx1.h(0)  # Hadamard gate on qubit 0\n",
    "qcEx1.x(1)  # NOT gate on qubit 1\n",
    "\n",
    "### Leave the code below this line unchanged\n",
    "qcEx1.measure([0,1], [0,1])\n",
    "\n",
    "qcEx1.draw(\"mpl\")"
   ]
  },
  {
   "cell_type": "markdown",
   "metadata": {},
   "source": [
    "Nice work. You should see six total gates; four that you added plus two measurement gates at the end.\n",
    "\n",
    "When we measure the qubits, we knock them out of any unique quantum state they may be in. This means that when we measure a qubit, we can only get a classical bit of data, a zero or a one. That's why we include the classical bits when we create a new QuantumCircuit() object."
   ]
  },
  {
   "cell_type": "markdown",
   "metadata": {},
   "source": [
    "Getting results from a circuit\n",
    "Now let's see what the results of running this circuit would be. First we will use a quantum simulator, which is a standard computer calculating what an ideal quantum computer would do. Later, you will run a circuit on a real quantum computer.\n",
    "\n",
    "Simulating a large quantum computer is difficult for classical computers, since the best quantum algorithms we have grow exponentially with the number of qubits. As such, using a simulator is only possible for circuits with small numbers of qubits, or certain types of circuits for which we can use some tricks to speed up the simulation. Nevertheless, simulators are useful tools for educational purposes.\n",
    "\n",
    "Let's import Qiskit’s simulator (called Aer), and make a new simulator object."
   ]
  },
  {
   "cell_type": "code",
   "execution_count": 14,
   "metadata": {},
   "outputs": [],
   "source": [
    "# Create quantum simulator instance for testing circuits\n",
    "backend = AerSimulator()\n",
    "sampler = Sampler(backend)"
   ]
  },
  {
   "cell_type": "markdown",
   "metadata": {},
   "source": [
    "To do the simulation, we can use the simulator’s .run() method. This returns a \"job\", which contains information about the experiment, such as whether the experiment is running or completed, the backend it ran on, and (importantly for us), the results of the experiment.\n",
    "\n",
    "To get the results from the job, we use the results method, and the most popular way to view the results is as a dictionary of \"counts\"."
   ]
  },
  {
   "cell_type": "code",
   "execution_count": null,
   "metadata": {},
   "outputs": [],
   "source": [
    "# Execute the circuit on the simulator\n",
    "job = sampler.run([qcEx1])\n",
    "\n",
    "# Get the results from the job\n",
    "result = job.result()[0]\n",
    "\n",
    "# Get the measurement counts (how many times each bit string was measured)\n",
    "result.data.c.get_counts()"
   ]
  },
  {
   "cell_type": "markdown",
   "metadata": {},
   "source": [
    "The number on the left is called a key, and the number on the right is a called a value. The key tells us what each of our two qubits got measured as, and the value is the number of times that specific result was measured.\n",
    "\n",
    "Depending on the gates you placed, your keys are either 00, 01, 10, or 11.\n",
    "\n",
    "Your values will be unqiue, but if you add all the values together they should equal 1024.\n",
    "\n",
    "Why did we run this circuit 1024 times?\n",
    "Quantum computers are still very new, and can have randomness in their results. It's common to repeat your circuit a few times (or a few hundred) to compare your results. This circuit was repeated 1024 times, which is the default number of times to repeat a circuit in Qiskit."
   ]
  },
  {
   "cell_type": "markdown",
   "metadata": {},
   "source": [
    "Part 2: Make a Bell state\n",
    "Quantum computers can use \"gates\" to send different instructions to the qubits. Let's look at three commonly used gates:\n",
    "\n",
    "You have already encountered the Not gate .x(). This is one of the most basic operations that you can do in a computer; it simply flips the bit value. A 0 becomes 1, or a 1 becomes 0. This is commonly referred to as either an X gate or a NOT gate.\n",
    "\n",
    "You have also met the Hadamard gate .h(). This gate puts a qubit into a superposition, which hopefully you've already learned in one of your Fall Fest workshops!\n",
    "\n",
    "The last gate we'll look at for now is the CNOT gate. There's a few ways to explain what this gate is. To keep it simple, let's say that this is the entanglement gate. It entangles two qubits together. We apply a CNOT gate by using .cx() and passing the two qubit numbers we wish to entangle, separated by a comma.\n",
    "\n",
    "Time for you to put each of these into action:"
   ]
  },
  {
   "cell_type": "code",
   "execution_count": null,
   "metadata": {},
   "outputs": [],
   "source": [
    "# Create a Bell state circuit\n",
    "qc = QuantumCircuit(2)\n",
    "\n",
    "# Apply X gate to put qubit 0 in state |1⟩\n",
    "qc.x(0)\n",
    "\n",
    "# Apply Hadamard to create superposition\n",
    "qc.h(0)\n",
    "\n",
    "# Apply CNOT to entangle qubits 0 and 1\n",
    "qc.cx(0, 1)\n",
    "\n",
    "qc.draw(output=\"mpl\")"
   ]
  },
  {
   "cell_type": "markdown",
   "metadata": {},
   "source": [
    "Exercise 2\n",
    "Let's use these gates to create a Bell state. These are like the \"hello world\" of quantum computing -- they are the circuits we use to generate a maximally entangled states.\n",
    "\n",
    "YOUR TASK: In the cell below, we have already created a new Quantum Circuit with two qubits, named qcEx2. Apply a Hadamard gate to q0, then a CNOT gate connecting qubit 0 to qubit 1."
   ]
  },
  {
   "cell_type": "code",
   "execution_count": null,
   "metadata": {},
   "outputs": [],
   "source": [
    "# Create quantum circuit for Bell state\n",
    "qcEx2 = QuantumCircuit(2, 2)\n",
    "\n",
    "## Write your code below here ##\n",
    "qcEx2.h(0)  # Apply Hadamard gate to qubit 0 \n",
    "qcEx2.cx(0, 1)  # Apply CNOT gate with qubit 0 as control and qubit 1 as target\n",
    "\n",
    "## Do not modify the code under this line ##\n",
    "qcEx2.measure([0,1], [0,1])\n",
    "\n",
    "qcEx2.draw(output=\"mpl\")"
   ]
  },
  {
   "cell_type": "markdown",
   "metadata": {},
   "source": [
    "Run on real hardware\n",
    "It's time to run your circuit on a real quatum computer. There are just a few last steps to follow before you can.\n",
    "\n",
    "You need to store your API token. If you do not properly store your API token, you will not be able to access the IBM quantum backends available.\n",
    "You need to decide which quantum computer you would like to run your circuit on.\n",
    "You need to transpile your circuit down to the basis gates which match that backend you will run on. You can learn more about this process from IBM's transpilation documentation.\n",
    "We have already provided the code for all these steps below, but you'll need to modify one line (your API token) to make sure it all works correctly."
   ]
  },
  {
   "cell_type": "markdown",
   "metadata": {},
   "source": [
    "Save your IBM Quantum account\n",
    "Navigate to the IBM Quantum Platform and log in\n",
    "Look to the top right corner, click and copy your API token (pictured above)\n",
    "In the code cell below, replace Your_token_here with your token\n",
    "Make sure your token is inside the quotation marks!!"
   ]
  },
  {
   "cell_type": "code",
   "execution_count": 18,
   "metadata": {},
   "outputs": [],
   "source": [
    "## Save an IBM Quantum account and set it as your default account.\n",
    "QiskitRuntimeService.save_account(\n",
    "    channel=\"ibm_quantum\",\n",
    "    token=\"c580113b3c811bd98ff012928d6aec04f67ea729c1e3a803294d6f384485bfc4ac6c10597c47baa5378e5521fcc716430b813a8ae987347f255ca69a5be82b3b\",  \n",
    "    set_as_default=True,\n",
    "    overwrite=True,\n",
    ")\n",
    "\n",
    "# Load saved credentials\n",
    "service = QiskitRuntimeService()"
   ]
  },
  {
   "cell_type": "markdown",
   "metadata": {},
   "source": [
    "Prepare your circuit for a certain backend\n",
    "The code for both of these steps is already provided below, you do not need to modify any lines."
   ]
  },
  {
   "cell_type": "code",
   "execution_count": null,
   "metadata": {},
   "outputs": [],
   "source": [
    "## Select the backend with the fewest jobs in the queue\n",
    "service = QiskitRuntimeService(channel=\"ibm_quantum\")\n",
    "# Find least busy quantum computer that meets our requirements\n",
    "backend = service.least_busy(operational=True, simulator=False, min_num_qubits=127)\n",
    "backend.name"
   ]
  },
  {
   "cell_type": "code",
   "execution_count": null,
   "metadata": {},
   "outputs": [],
   "source": [
    "## Convert circuit to use gates available on the selected backend\n",
    "target = backend.target\n",
    "pm = generate_preset_pass_manager(target=target, optimization_level=3)\n",
    "\n",
    "# Transpile the circuit\n",
    "qcEx2_isa_circuit = pm.run(qcEx2)\n",
    "qcEx2_isa_circuit.draw(output=\"mpl\", idle_wires=False, style=\"iqp\")"
   ]
  },
  {
   "cell_type": "markdown",
   "metadata": {},
   "source": [
    "You are now ready to run your circuit on a real quantum computer!\n",
    "\n",
    "The next code cell will send your circuit to the IBM quantum computer with the least amount of people in the queue. Depending on the device and the time of day, this can take a few minutes, or a few hours.\n",
    "\n",
    "There are a few ways to check the status of your job while you're waiting. One is to simply go to the IBM Quantum Platform and check the dashboard. We've included a picture of what that looks like after the code cell."
   ]
  },
  {
   "cell_type": "code",
   "execution_count": null,
   "metadata": {},
   "outputs": [],
   "source": [
    "# Create a sampler instance for the quantum computer\n",
    "sampler = Sampler(backend)\n",
    "\n",
    "# Run the experiment on real quantum hardware\n",
    "job = sampler.run([qcEx2_isa_circuit])\n",
    "\n",
    "# Get and plot the results\n",
    "result = job.result()\n",
    "counts_sampler = result[0].data.c.get_counts()\n",
    "\n",
    "# Import visualization and create histogram of results\n",
    "from qiskit.visualization import plot_histogram\n",
    "plot_histogram(counts_sampler)"
   ]
  },
  {
   "cell_type": "markdown",
   "metadata": {},
   "source": [
    "You've made it to the end of the first open notebook! Let's recap what you learned:\n",
    "\n",
    "The fundamental unit of Qiskit is the quantum circuit, which is a series of instructions (gates) that a quantum computer can use to work with quantum bits of information, also known as qubits.\n",
    "When you measure a qubit, it falls out of it's quantum state down to a single bit of information, a 0 or a 1\n",
    "The X gate flips a qubit from 0 to 1 (or vice versa)\n",
    "The H gate puts a qubit into superposition\n",
    "The CX gate entangles two qubits together\n",
    "You can run your circuit on a quantum computer easily using Qiskit Runtime\n",
    "Now that you know a little bit about Qiskit, it is time to move onto the next Notebook and learn more. Enjoy the Qiskit Fall Fest. Good luck!"
   ]
  }
 ],
 "metadata": {
  "kernelspec": {
   "display_name": "venv",
   "language": "python",
   "name": "python3"
  },
  "language_info": {
   "codemirror_mode": {
    "name": "ipython",
    "version": 3
   },
   "file_extension": ".py",
   "mimetype": "text/x-python",
   "name": "python",
   "nbconvert_exporter": "python",
   "pygments_lexer": "ipython3",
   "version": "3.12.3"
  }
 },
 "nbformat": 4,
 "nbformat_minor": 2
}
