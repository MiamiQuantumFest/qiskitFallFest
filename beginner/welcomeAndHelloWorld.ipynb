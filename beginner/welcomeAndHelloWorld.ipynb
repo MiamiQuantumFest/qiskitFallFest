{
 "cells": [
  {
   "cell_type": "markdown",
   "metadata": {},
   "source": [
    "In this notebook, we'll focus on teaching you how to manage the general flow of setting up, running, and evaluating the results of your quantum code. We'll also include some details about the proper way to configure each notebook you encounter.\n",
    "\n",
    "Each notebook has exercises where you will be asked to fill in your own Qiskit code. There will be occasional hints, but it is up to you to talk with other people at your Qiskit Fall Fest event and solve each exercise. It's important to note that you should run each code cell, even if you didn't write any new code. This ensures that when you submit your answers later on, everything is up to date.\n",
    "\n",
    "This notebook you are looking at is called a Jupyter Notebook, and it's really useful for writing text and code right next to each other. To complete this and the other notebooks, you'll need to know a little bit about the Python programming language.\n",
    "\n",
    "Have you ever used Python before? If the answer is \"yes\" - feel free to skip forward to the Install Qiskit section. If you have never used Python before, you will definitely struggle with these notebooks. We recommend you go learn the basics of Python before continuing."
   ]
  },
  {
   "cell_type": "code",
   "execution_count": 1,
   "metadata": {},
   "outputs": [
    {
     "name": "stdout",
     "output_type": "stream",
     "text": [
      "Requirement already satisfied: qiskit[visualization] in /home/roc/dataScience/qiskitFallFest/venv/lib/python3.12/site-packages (1.2.4)\n",
      "Requirement already satisfied: rustworkx>=0.15.0 in /home/roc/dataScience/qiskitFallFest/venv/lib/python3.12/site-packages (from qiskit[visualization]) (0.15.1)\n",
      "Requirement already satisfied: numpy<3,>=1.17 in /home/roc/dataScience/qiskitFallFest/venv/lib/python3.12/site-packages (from qiskit[visualization]) (2.1.2)\n",
      "Requirement already satisfied: scipy>=1.5 in /home/roc/dataScience/qiskitFallFest/venv/lib/python3.12/site-packages (from qiskit[visualization]) (1.14.1)\n",
      "Requirement already satisfied: sympy>=1.3 in /home/roc/dataScience/qiskitFallFest/venv/lib/python3.12/site-packages (from qiskit[visualization]) (1.13.3)\n",
      "Requirement already satisfied: dill>=0.3 in /home/roc/dataScience/qiskitFallFest/venv/lib/python3.12/site-packages (from qiskit[visualization]) (0.3.9)\n",
      "Requirement already satisfied: python-dateutil>=2.8.0 in /home/roc/dataScience/qiskitFallFest/venv/lib/python3.12/site-packages (from qiskit[visualization]) (2.9.0.post0)\n",
      "Requirement already satisfied: stevedore>=3.0.0 in /home/roc/dataScience/qiskitFallFest/venv/lib/python3.12/site-packages (from qiskit[visualization]) (5.3.0)\n",
      "Requirement already satisfied: typing-extensions in /home/roc/dataScience/qiskitFallFest/venv/lib/python3.12/site-packages (from qiskit[visualization]) (4.12.2)\n",
      "Requirement already satisfied: symengine<0.14,>=0.11 in /home/roc/dataScience/qiskitFallFest/venv/lib/python3.12/site-packages (from qiskit[visualization]) (0.13.0)\n",
      "Requirement already satisfied: matplotlib>=3.3 in /home/roc/dataScience/qiskitFallFest/venv/lib/python3.12/site-packages (from qiskit[visualization]) (3.9.2)\n",
      "Requirement already satisfied: pydot in /home/roc/dataScience/qiskitFallFest/venv/lib/python3.12/site-packages (from qiskit[visualization]) (3.0.2)\n",
      "Requirement already satisfied: Pillow>=4.2.1 in /home/roc/dataScience/qiskitFallFest/venv/lib/python3.12/site-packages (from qiskit[visualization]) (11.0.0)\n",
      "Requirement already satisfied: pylatexenc>=1.4 in /home/roc/dataScience/qiskitFallFest/venv/lib/python3.12/site-packages (from qiskit[visualization]) (2.10)\n",
      "Requirement already satisfied: seaborn>=0.9.0 in /home/roc/dataScience/qiskitFallFest/venv/lib/python3.12/site-packages (from qiskit[visualization]) (0.13.2)\n",
      "Requirement already satisfied: contourpy>=1.0.1 in /home/roc/dataScience/qiskitFallFest/venv/lib/python3.12/site-packages (from matplotlib>=3.3->qiskit[visualization]) (1.3.0)\n",
      "Requirement already satisfied: cycler>=0.10 in /home/roc/dataScience/qiskitFallFest/venv/lib/python3.12/site-packages (from matplotlib>=3.3->qiskit[visualization]) (0.12.1)\n",
      "Requirement already satisfied: fonttools>=4.22.0 in /home/roc/dataScience/qiskitFallFest/venv/lib/python3.12/site-packages (from matplotlib>=3.3->qiskit[visualization]) (4.54.1)\n",
      "Requirement already satisfied: kiwisolver>=1.3.1 in /home/roc/dataScience/qiskitFallFest/venv/lib/python3.12/site-packages (from matplotlib>=3.3->qiskit[visualization]) (1.4.7)\n",
      "Requirement already satisfied: packaging>=20.0 in /home/roc/dataScience/qiskitFallFest/venv/lib/python3.12/site-packages (from matplotlib>=3.3->qiskit[visualization]) (24.1)\n",
      "Requirement already satisfied: pyparsing>=2.3.1 in /home/roc/dataScience/qiskitFallFest/venv/lib/python3.12/site-packages (from matplotlib>=3.3->qiskit[visualization]) (3.2.0)\n",
      "Requirement already satisfied: six>=1.5 in /home/roc/dataScience/qiskitFallFest/venv/lib/python3.12/site-packages (from python-dateutil>=2.8.0->qiskit[visualization]) (1.16.0)\n",
      "Requirement already satisfied: pandas>=1.2 in /home/roc/dataScience/qiskitFallFest/venv/lib/python3.12/site-packages (from seaborn>=0.9.0->qiskit[visualization]) (2.2.3)\n",
      "Requirement already satisfied: pbr>=2.0.0 in /home/roc/dataScience/qiskitFallFest/venv/lib/python3.12/site-packages (from stevedore>=3.0.0->qiskit[visualization]) (6.1.0)\n",
      "Requirement already satisfied: mpmath<1.4,>=1.1.0 in /home/roc/dataScience/qiskitFallFest/venv/lib/python3.12/site-packages (from sympy>=1.3->qiskit[visualization]) (1.3.0)\n",
      "Requirement already satisfied: pytz>=2020.1 in /home/roc/dataScience/qiskitFallFest/venv/lib/python3.12/site-packages (from pandas>=1.2->seaborn>=0.9.0->qiskit[visualization]) (2024.2)\n",
      "Requirement already satisfied: tzdata>=2022.7 in /home/roc/dataScience/qiskitFallFest/venv/lib/python3.12/site-packages (from pandas>=1.2->seaborn>=0.9.0->qiskit[visualization]) (2024.2)\n",
      "Note: you may need to restart the kernel to use updated packages.\n"
     ]
    }
   ],
   "source": [
    "### INSTALL QISKIT inside your cloud-based environment\n",
    "\n",
    "%pip install qiskit[visualization]"
   ]
  },
  {
   "cell_type": "markdown",
   "metadata": {},
   "source": [
    "Qiskit should now be installed and ready to go.\n",
    "\n",
    "In the following cell, we've provided some very basic Qiskit code. This code will create a quantum circuit, apply a single gate, and then draw that circuit. Run the cell below to make sure your system is set up properly.\n",
    "\n",
    "Hint: If those bolded words are foreign to you, we recommend taking a detour to learn about the basics of quantum circuits here."
   ]
  },
  {
   "cell_type": "code",
   "execution_count": 2,
   "metadata": {},
   "outputs": [
    {
     "data": {
      "image/png": "[encoded data removed]",
      "text/plain": [
       "<Figure size 185.453x117.056 with 1 Axes>"
      ]
     },
     "execution_count": 2,
     "metadata": {},
     "output_type": "execute_result"
    }
   ],
   "source": [
    "from qiskit import QuantumCircuit\n",
    "\n",
    "# Create a new circuit with a single qubit\n",
    "qc = QuantumCircuit(1)\n",
    "\n",
    "# Add a Not gate to qubit 0\n",
    "qc.x(0)\n",
    "\n",
    "# Return a drawing of the circuit using MatPlotLib (\"mpl\"). This is the\n",
    "# last line of the cell, so the drawing appears in the cell output.\n",
    "qc.draw(\"mpl\")"
   ]
  },
  {
   "cell_type": "code",
   "execution_count": 3,
   "metadata": {},
   "outputs": [
    {
     "name": "stdout",
     "output_type": "stream",
     "text": [
      "Requirement already satisfied: qiskit_aer in /home/roc/dataScience/qiskitFallFest/venv/lib/python3.12/site-packages (0.15.1)\n",
      "Requirement already satisfied: qiskit>=1.1.0 in /home/roc/dataScience/qiskitFallFest/venv/lib/python3.12/site-packages (from qiskit_aer) (1.2.4)\n",
      "Requirement already satisfied: numpy>=1.16.3 in /home/roc/dataScience/qiskitFallFest/venv/lib/python3.12/site-packages (from qiskit_aer) (2.1.2)\n",
      "Requirement already satisfied: scipy>=1.0 in /home/roc/dataScience/qiskitFallFest/venv/lib/python3.12/site-packages (from qiskit_aer) (1.14.1)\n",
      "Requirement already satisfied: psutil>=5 in /home/roc/dataScience/qiskitFallFest/venv/lib/python3.12/site-packages (from qiskit_aer) (6.1.0)\n",
      "Requirement already satisfied: rustworkx>=0.15.0 in /home/roc/dataScience/qiskitFallFest/venv/lib/python3.12/site-packages (from qiskit>=1.1.0->qiskit_aer) (0.15.1)\n",
      "Requirement already satisfied: sympy>=1.3 in /home/roc/dataScience/qiskitFallFest/venv/lib/python3.12/site-packages (from qiskit>=1.1.0->qiskit_aer) (1.13.3)\n",
      "Requirement already satisfied: dill>=0.3 in /home/roc/dataScience/qiskitFallFest/venv/lib/python3.12/site-packages (from qiskit>=1.1.0->qiskit_aer) (0.3.9)\n",
      "Requirement already satisfied: python-dateutil>=2.8.0 in /home/roc/dataScience/qiskitFallFest/venv/lib/python3.12/site-packages (from qiskit>=1.1.0->qiskit_aer) (2.9.0.post0)\n",
      "Requirement already satisfied: stevedore>=3.0.0 in /home/roc/dataScience/qiskitFallFest/venv/lib/python3.12/site-packages (from qiskit>=1.1.0->qiskit_aer) (5.3.0)\n",
      "Requirement already satisfied: typing-extensions in /home/roc/dataScience/qiskitFallFest/venv/lib/python3.12/site-packages (from qiskit>=1.1.0->qiskit_aer) (4.12.2)\n",
      "Requirement already satisfied: symengine<0.14,>=0.11 in /home/roc/dataScience/qiskitFallFest/venv/lib/python3.12/site-packages (from qiskit>=1.1.0->qiskit_aer) (0.13.0)\n",
      "Requirement already satisfied: six>=1.5 in /home/roc/dataScience/qiskitFallFest/venv/lib/python3.12/site-packages (from python-dateutil>=2.8.0->qiskit>=1.1.0->qiskit_aer) (1.16.0)\n",
      "Requirement already satisfied: pbr>=2.0.0 in /home/roc/dataScience/qiskitFallFest/venv/lib/python3.12/site-packages (from stevedore>=3.0.0->qiskit>=1.1.0->qiskit_aer) (6.1.0)\n",
      "Requirement already satisfied: mpmath<1.4,>=1.1.0 in /home/roc/dataScience/qiskitFallFest/venv/lib/python3.12/site-packages (from sympy>=1.3->qiskit>=1.1.0->qiskit_aer) (1.3.0)\n",
      "Note: you may need to restart the kernel to use updated packages.\n",
      "Requirement already satisfied: qiskit_ibm_runtime in /home/roc/dataScience/qiskitFallFest/venv/lib/python3.12/site-packages (0.31.0)\n",
      "Requirement already satisfied: requests>=2.19 in /home/roc/dataScience/qiskitFallFest/venv/lib/python3.12/site-packages (from qiskit_ibm_runtime) (2.32.3)\n",
      "Requirement already satisfied: requests-ntlm>=1.1.0 in /home/roc/dataScience/qiskitFallFest/venv/lib/python3.12/site-packages (from qiskit_ibm_runtime) (1.3.0)\n",
      "Requirement already satisfied: numpy>=1.13 in /home/roc/dataScience/qiskitFallFest/venv/lib/python3.12/site-packages (from qiskit_ibm_runtime) (2.1.2)\n",
      "Requirement already satisfied: urllib3>=1.21.1 in /home/roc/dataScience/qiskitFallFest/venv/lib/python3.12/site-packages (from qiskit_ibm_runtime) (2.2.3)\n",
      "Requirement already satisfied: python-dateutil>=2.8.0 in /home/roc/dataScience/qiskitFallFest/venv/lib/python3.12/site-packages (from qiskit_ibm_runtime) (2.9.0.post0)\n",
      "Requirement already satisfied: websocket-client>=1.5.1 in /home/roc/dataScience/qiskitFallFest/venv/lib/python3.12/site-packages (from qiskit_ibm_runtime) (1.8.0)\n",
      "Requirement already satisfied: ibm-platform-services>=0.22.6 in /home/roc/dataScience/qiskitFallFest/venv/lib/python3.12/site-packages (from qiskit_ibm_runtime) (0.57.2)\n",
      "Requirement already satisfied: pydantic>=2.5.0 in /home/roc/dataScience/qiskitFallFest/venv/lib/python3.12/site-packages (from qiskit_ibm_runtime) (2.9.2)\n",
      "Requirement already satisfied: qiskit>=1.1.0 in /home/roc/dataScience/qiskitFallFest/venv/lib/python3.12/site-packages (from qiskit_ibm_runtime) (1.2.4)\n",
      "Requirement already satisfied: ibm-cloud-sdk-core<4.0.0,>=3.22.0 in /home/roc/dataScience/qiskitFallFest/venv/lib/python3.12/site-packages (from ibm-platform-services>=0.22.6->qiskit_ibm_runtime) (3.22.0)\n",
      "Requirement already satisfied: annotated-types>=0.6.0 in /home/roc/dataScience/qiskitFallFest/venv/lib/python3.12/site-packages (from pydantic>=2.5.0->qiskit_ibm_runtime) (0.7.0)\n",
      "Requirement already satisfied: pydantic-core==2.23.4 in /home/roc/dataScience/qiskitFallFest/venv/lib/python3.12/site-packages (from pydantic>=2.5.0->qiskit_ibm_runtime) (2.23.4)\n",
      "Requirement already satisfied: typing-extensions>=4.6.1 in /home/roc/dataScience/qiskitFallFest/venv/lib/python3.12/site-packages (from pydantic>=2.5.0->qiskit_ibm_runtime) (4.12.2)\n",
      "Requirement already satisfied: six>=1.5 in /home/roc/dataScience/qiskitFallFest/venv/lib/python3.12/site-packages (from python-dateutil>=2.8.0->qiskit_ibm_runtime) (1.16.0)\n",
      "Requirement already satisfied: rustworkx>=0.15.0 in /home/roc/dataScience/qiskitFallFest/venv/lib/python3.12/site-packages (from qiskit>=1.1.0->qiskit_ibm_runtime) (0.15.1)\n",
      "Requirement already satisfied: scipy>=1.5 in /home/roc/dataScience/qiskitFallFest/venv/lib/python3.12/site-packages (from qiskit>=1.1.0->qiskit_ibm_runtime) (1.14.1)\n",
      "Requirement already satisfied: sympy>=1.3 in /home/roc/dataScience/qiskitFallFest/venv/lib/python3.12/site-packages (from qiskit>=1.1.0->qiskit_ibm_runtime) (1.13.3)\n",
      "Requirement already satisfied: dill>=0.3 in /home/roc/dataScience/qiskitFallFest/venv/lib/python3.12/site-packages (from qiskit>=1.1.0->qiskit_ibm_runtime) (0.3.9)\n",
      "Requirement already satisfied: stevedore>=3.0.0 in /home/roc/dataScience/qiskitFallFest/venv/lib/python3.12/site-packages (from qiskit>=1.1.0->qiskit_ibm_runtime) (5.3.0)\n",
      "Requirement already satisfied: symengine<0.14,>=0.11 in /home/roc/dataScience/qiskitFallFest/venv/lib/python3.12/site-packages (from qiskit>=1.1.0->qiskit_ibm_runtime) (0.13.0)\n",
      "Requirement already satisfied: charset-normalizer<4,>=2 in /home/roc/dataScience/qiskitFallFest/venv/lib/python3.12/site-packages (from requests>=2.19->qiskit_ibm_runtime) (3.4.0)\n",
      "Requirement already satisfied: idna<4,>=2.5 in /home/roc/dataScience/qiskitFallFest/venv/lib/python3.12/site-packages (from requests>=2.19->qiskit_ibm_runtime) (3.10)\n",
      "Requirement already satisfied: certifi>=2017.4.17 in /home/roc/dataScience/qiskitFallFest/venv/lib/python3.12/site-packages (from requests>=2.19->qiskit_ibm_runtime) (2024.8.30)\n",
      "Requirement already satisfied: cryptography>=1.3 in /home/roc/dataScience/qiskitFallFest/venv/lib/python3.12/site-packages (from requests-ntlm>=1.1.0->qiskit_ibm_runtime) (43.0.3)\n",
      "Requirement already satisfied: pyspnego>=0.4.0 in /home/roc/dataScience/qiskitFallFest/venv/lib/python3.12/site-packages (from requests-ntlm>=1.1.0->qiskit_ibm_runtime) (0.11.1)\n",
      "Requirement already satisfied: cffi>=1.12 in /home/roc/dataScience/qiskitFallFest/venv/lib/python3.12/site-packages (from cryptography>=1.3->requests-ntlm>=1.1.0->qiskit_ibm_runtime) (1.17.1)\n",
      "Requirement already satisfied: PyJWT<3.0.0,>=2.8.0 in /home/roc/dataScience/qiskitFallFest/venv/lib/python3.12/site-packages (from ibm-cloud-sdk-core<4.0.0,>=3.22.0->ibm-platform-services>=0.22.6->qiskit_ibm_runtime) (2.9.0)\n",
      "Requirement already satisfied: pbr>=2.0.0 in /home/roc/dataScience/qiskitFallFest/venv/lib/python3.12/site-packages (from stevedore>=3.0.0->qiskit>=1.1.0->qiskit_ibm_runtime) (6.1.0)\n",
      "Requirement already satisfied: mpmath<1.4,>=1.1.0 in /home/roc/dataScience/qiskitFallFest/venv/lib/python3.12/site-packages (from sympy>=1.3->qiskit>=1.1.0->qiskit_ibm_runtime) (1.3.0)\n",
      "Requirement already satisfied: pycparser in /home/roc/dataScience/qiskitFallFest/venv/lib/python3.12/site-packages (from cffi>=1.12->cryptography>=1.3->requests-ntlm>=1.1.0->qiskit_ibm_runtime) (2.22)\n",
      "Note: you may need to restart the kernel to use updated packages.\n",
      "Requirement already satisfied: matplotlib in /home/roc/dataScience/qiskitFallFest/venv/lib/python3.12/site-packages (3.9.2)\n",
      "Requirement already satisfied: contourpy>=1.0.1 in /home/roc/dataScience/qiskitFallFest/venv/lib/python3.12/site-packages (from matplotlib) (1.3.0)\n",
      "Requirement already satisfied: cycler>=0.10 in /home/roc/dataScience/qiskitFallFest/venv/lib/python3.12/site-packages (from matplotlib) (0.12.1)\n",
      "Requirement already satisfied: fonttools>=4.22.0 in /home/roc/dataScience/qiskitFallFest/venv/lib/python3.12/site-packages (from matplotlib) (4.54.1)\n",
      "Requirement already satisfied: kiwisolver>=1.3.1 in /home/roc/dataScience/qiskitFallFest/venv/lib/python3.12/site-packages (from matplotlib) (1.4.7)\n",
      "Requirement already satisfied: numpy>=1.23 in /home/roc/dataScience/qiskitFallFest/venv/lib/python3.12/site-packages (from matplotlib) (2.1.2)\n",
      "Requirement already satisfied: packaging>=20.0 in /home/roc/dataScience/qiskitFallFest/venv/lib/python3.12/site-packages (from matplotlib) (24.1)\n",
      "Requirement already satisfied: pillow>=8 in /home/roc/dataScience/qiskitFallFest/venv/lib/python3.12/site-packages (from matplotlib) (11.0.0)\n",
      "Requirement already satisfied: pyparsing>=2.3.1 in /home/roc/dataScience/qiskitFallFest/venv/lib/python3.12/site-packages (from matplotlib) (3.2.0)\n",
      "Requirement already satisfied: python-dateutil>=2.7 in /home/roc/dataScience/qiskitFallFest/venv/lib/python3.12/site-packages (from matplotlib) (2.9.0.post0)\n",
      "Requirement already satisfied: six>=1.5 in /home/roc/dataScience/qiskitFallFest/venv/lib/python3.12/site-packages (from python-dateutil>=2.7->matplotlib) (1.16.0)\n",
      "Note: you may need to restart the kernel to use updated packages.\n",
      "Requirement already satisfied: pylatexenc in /home/roc/dataScience/qiskitFallFest/venv/lib/python3.12/site-packages (2.10)\n",
      "Note: you may need to restart the kernel to use updated packages.\n",
      "Collecting git+https://github.com/qiskit-community/Quantum-Challenge-Grader.git\n",
      "  Cloning https://github.com/qiskit-community/Quantum-Challenge-Grader.git to /tmp/pip-req-build-kuztx6r2\n",
      "  Running command git clone --filter=blob:none --quiet https://github.com/qiskit-community/Quantum-Challenge-Grader.git /tmp/pip-req-build-kuztx6r2\n",
      "  Resolved https://github.com/qiskit-community/Quantum-Challenge-Grader.git to commit c481fa96741396aa368a8f857275cf24f65124c4\n",
      "  Installing build dependencies ... \u001b[?25ldone\n",
      "\u001b[?25h  Getting requirements to build wheel ... \u001b[?25ldone\n",
      "\u001b[?25h  Preparing metadata (pyproject.toml) ... \u001b[?25ldone\n",
      "\u001b[?25hRequirement already satisfied: typeguard in /home/roc/dataScience/qiskitFallFest/venv/lib/python3.12/site-packages (from qc_grader==0.20.2) (4.3.0)\n",
      "Requirement already satisfied: jsonpickle==3.0.3 in /home/roc/dataScience/qiskitFallFest/venv/lib/python3.12/site-packages (from qc_grader==0.20.2) (3.0.3)\n",
      "Requirement already satisfied: ipycytoscape in /home/roc/dataScience/qiskitFallFest/venv/lib/python3.12/site-packages (from qc_grader==0.20.2) (1.3.3)\n",
      "Requirement already satisfied: plotly in /home/roc/dataScience/qiskitFallFest/venv/lib/python3.12/site-packages (from qc_grader==0.20.2) (5.24.1)\n",
      "Requirement already satisfied: networkx==3.2.1 in /home/roc/dataScience/qiskitFallFest/venv/lib/python3.12/site-packages (from qc_grader==0.20.2) (3.2.1)\n",
      "Requirement already satisfied: graphviz in /home/roc/dataScience/qiskitFallFest/venv/lib/python3.12/site-packages (from qc_grader==0.20.2) (0.20.3)\n",
      "Requirement already satisfied: ipywidgets>=7.6.0 in /home/roc/dataScience/qiskitFallFest/venv/lib/python3.12/site-packages (from ipycytoscape->qc_grader==0.20.2) (8.1.5)\n",
      "Requirement already satisfied: spectate>=1.0.0 in /home/roc/dataScience/qiskitFallFest/venv/lib/python3.12/site-packages (from ipycytoscape->qc_grader==0.20.2) (1.0.1)\n",
      "Requirement already satisfied: tenacity>=6.2.0 in /home/roc/dataScience/qiskitFallFest/venv/lib/python3.12/site-packages (from plotly->qc_grader==0.20.2) (9.0.0)\n",
      "Requirement already satisfied: packaging in /home/roc/dataScience/qiskitFallFest/venv/lib/python3.12/site-packages (from plotly->qc_grader==0.20.2) (24.1)\n",
      "Requirement already satisfied: typing-extensions>=4.10.0 in /home/roc/dataScience/qiskitFallFest/venv/lib/python3.12/site-packages (from typeguard->qc_grader==0.20.2) (4.12.2)\n",
      "Requirement already satisfied: comm>=0.1.3 in /home/roc/dataScience/qiskitFallFest/venv/lib/python3.12/site-packages (from ipywidgets>=7.6.0->ipycytoscape->qc_grader==0.20.2) (0.2.2)\n",
      "Requirement already satisfied: ipython>=6.1.0 in /home/roc/dataScience/qiskitFallFest/venv/lib/python3.12/site-packages (from ipywidgets>=7.6.0->ipycytoscape->qc_grader==0.20.2) (8.28.0)\n",
      "Requirement already satisfied: traitlets>=4.3.1 in /home/roc/dataScience/qiskitFallFest/venv/lib/python3.12/site-packages (from ipywidgets>=7.6.0->ipycytoscape->qc_grader==0.20.2) (5.14.3)\n",
      "Requirement already satisfied: widgetsnbextension~=4.0.12 in /home/roc/dataScience/qiskitFallFest/venv/lib/python3.12/site-packages (from ipywidgets>=7.6.0->ipycytoscape->qc_grader==0.20.2) (4.0.13)\n",
      "Requirement already satisfied: jupyterlab-widgets~=3.0.12 in /home/roc/dataScience/qiskitFallFest/venv/lib/python3.12/site-packages (from ipywidgets>=7.6.0->ipycytoscape->qc_grader==0.20.2) (3.0.13)\n",
      "Requirement already satisfied: decorator in /home/roc/dataScience/qiskitFallFest/venv/lib/python3.12/site-packages (from ipython>=6.1.0->ipywidgets>=7.6.0->ipycytoscape->qc_grader==0.20.2) (5.1.1)\n",
      "Requirement already satisfied: jedi>=0.16 in /home/roc/dataScience/qiskitFallFest/venv/lib/python3.12/site-packages (from ipython>=6.1.0->ipywidgets>=7.6.0->ipycytoscape->qc_grader==0.20.2) (0.19.1)\n",
      "Requirement already satisfied: matplotlib-inline in /home/roc/dataScience/qiskitFallFest/venv/lib/python3.12/site-packages (from ipython>=6.1.0->ipywidgets>=7.6.0->ipycytoscape->qc_grader==0.20.2) (0.1.7)\n",
      "Requirement already satisfied: prompt-toolkit<3.1.0,>=3.0.41 in /home/roc/dataScience/qiskitFallFest/venv/lib/python3.12/site-packages (from ipython>=6.1.0->ipywidgets>=7.6.0->ipycytoscape->qc_grader==0.20.2) (3.0.48)\n",
      "Requirement already satisfied: pygments>=2.4.0 in /home/roc/dataScience/qiskitFallFest/venv/lib/python3.12/site-packages (from ipython>=6.1.0->ipywidgets>=7.6.0->ipycytoscape->qc_grader==0.20.2) (2.18.0)\n",
      "Requirement already satisfied: stack-data in /home/roc/dataScience/qiskitFallFest/venv/lib/python3.12/site-packages (from ipython>=6.1.0->ipywidgets>=7.6.0->ipycytoscape->qc_grader==0.20.2) (0.6.3)\n",
      "Requirement already satisfied: pexpect>4.3 in /home/roc/dataScience/qiskitFallFest/venv/lib/python3.12/site-packages (from ipython>=6.1.0->ipywidgets>=7.6.0->ipycytoscape->qc_grader==0.20.2) (4.9.0)\n",
      "Requirement already satisfied: parso<0.9.0,>=0.8.3 in /home/roc/dataScience/qiskitFallFest/venv/lib/python3.12/site-packages (from jedi>=0.16->ipython>=6.1.0->ipywidgets>=7.6.0->ipycytoscape->qc_grader==0.20.2) (0.8.4)\n",
      "Requirement already satisfied: ptyprocess>=0.5 in /home/roc/dataScience/qiskitFallFest/venv/lib/python3.12/site-packages (from pexpect>4.3->ipython>=6.1.0->ipywidgets>=7.6.0->ipycytoscape->qc_grader==0.20.2) (0.7.0)\n",
      "Requirement already satisfied: wcwidth in /home/roc/dataScience/qiskitFallFest/venv/lib/python3.12/site-packages (from prompt-toolkit<3.1.0,>=3.0.41->ipython>=6.1.0->ipywidgets>=7.6.0->ipycytoscape->qc_grader==0.20.2) (0.2.13)\n",
      "Requirement already satisfied: executing>=1.2.0 in /home/roc/dataScience/qiskitFallFest/venv/lib/python3.12/site-packages (from stack-data->ipython>=6.1.0->ipywidgets>=7.6.0->ipycytoscape->qc_grader==0.20.2) (2.1.0)\n",
      "Requirement already satisfied: asttokens>=2.1.0 in /home/roc/dataScience/qiskitFallFest/venv/lib/python3.12/site-packages (from stack-data->ipython>=6.1.0->ipywidgets>=7.6.0->ipycytoscape->qc_grader==0.20.2) (2.4.1)\n",
      "Requirement already satisfied: pure-eval in /home/roc/dataScience/qiskitFallFest/venv/lib/python3.12/site-packages (from stack-data->ipython>=6.1.0->ipywidgets>=7.6.0->ipycytoscape->qc_grader==0.20.2) (0.2.3)\n",
      "Requirement already satisfied: six>=1.12.0 in /home/roc/dataScience/qiskitFallFest/venv/lib/python3.12/site-packages (from asttokens>=2.1.0->stack-data->ipython>=6.1.0->ipywidgets>=7.6.0->ipycytoscape->qc_grader==0.20.2) (1.16.0)\n",
      "Note: you may need to restart the kernel to use updated packages.\n"
     ]
    }
   ],
   "source": [
    "### Install the other required packages as well\n",
    "\n",
    "%pip install qiskit_aer\n",
    "%pip install qiskit_ibm_runtime\n",
    "%pip install matplotlib\n",
    "%pip install pylatexenc\n",
    "%pip install git+https://github.com/qiskit-community/Quantum-Challenge-Grader.git"
   ]
  },
  {
   "cell_type": "code",
   "execution_count": 4,
   "metadata": {},
   "outputs": [
    {
     "data": {
      "text/plain": [
       "'1.2.4'"
      ]
     },
     "execution_count": 4,
     "metadata": {},
     "output_type": "execute_result"
    }
   ],
   "source": [
    "### CHECK QISKIT VERSION\n",
    "import qiskit\n",
    "qiskit.__version__"
   ]
  },
  {
   "cell_type": "markdown",
   "metadata": {},
   "source": [
    "You should have Qiskit version 1.2 or higher installed. If you see a version lower than that, you'll need to restart your kernel and re-run the code cells above.\n",
    "\n",
    "While we're here, let's double-check that the other dependencies are correctly installed. You might be saying \"Is this really necessary after I just installed these packages just a few minutes ago?\"\n",
    "\n",
    "Probably not.\n",
    "\n",
    "But, in the wild world of Jupyter Notebooks, understanding how to diagnose a problem is an invaluable asset. Checking to make sure all your packages are installed in the way that you expect is one of the first bug-fixing steps to take, and sometimes solves your entire problem right there.\n",
    "\n",
    "Remember, if you need to reinstall any packages, restart your kernel (or runtime) first."
   ]
  },
  {
   "cell_type": "code",
   "execution_count": 5,
   "metadata": {},
   "outputs": [
    {
     "name": "stdout",
     "output_type": "stream",
     "text": [
      "/bin/bash: line 1: /home/roc/dataScience/qiskitFallFest/venv/bin/pip: cannot execute: required file not found\n"
     ]
    }
   ],
   "source": [
    "### CHECK OTHER DEPENDENCIES\n",
    "!pip show pylatexenc matplotlib qc_grader"
   ]
  },
  {
   "cell_type": "markdown",
   "metadata": {},
   "source": [
    "If the packages are installed properly, you will see a short list of attributes appear for each one above. Your qc-grader should be version 0.19.0 or higher.\n",
    "\n",
    "Other common issues could be solved by the following:\n",
    "\n",
    "If you aren't seeing any output, make sure you've run each code cell.\n",
    "Try restarting your kernel. How you do this varies by the environment you're using.\n",
    "If you're still running into problems, talk to others at your Qiskit Fall Fest event, check out this Coding with Qiskit video for additional tips, or explore the documentation for help."
   ]
  },
  {
   "cell_type": "code",
   "execution_count": 6,
   "metadata": {},
   "outputs": [
    {
     "name": "stdout",
     "output_type": "stream",
     "text": [
      "env: QXToken=c580113b3c811bd98ff012928d6aec04f67ea729c1e3a803294d6f384485bfc4ac6c10597c47baa5378e5521fcc716430b813a8ae987347f255ca69a5be82b3b\n"
     ]
    }
   ],
   "source": [
    "## Save your API token to track your progress\n",
    "## You do not need quotation marks around your API token!\n",
    "\n",
    "%set_env QXToken=c580113b3c811bd98ff012928d6aec04f67ea729c1e3a803294d6f384485bfc4ac6c10597c47baa5378e5521fcc716430b813a8ae987347f255ca69a5be82b3b\n",
    "\n",
    "# Make sure there is no space between the equal sign\n",
    "# and the beginning of your token"
   ]
  },
  {
   "cell_type": "code",
   "execution_count": 7,
   "metadata": {},
   "outputs": [],
   "source": [
    "### Imports\n",
    "\n",
    "from qiskit import QuantumCircuit\n",
    "from qiskit.quantum_info import SparsePauliOp\n",
    "from qiskit_ibm_runtime import EstimatorV2 as Estimator\n",
    "from qiskit_aer import AerSimulator\n",
    "import matplotlib.pyplot as plt\n",
    "from qc_grader.challenges.fall_fest24 import grade_lab1_ex1, grade_lab1_welcome"
   ]
  },
  {
   "cell_type": "markdown",
   "metadata": {},
   "source": [
    "Exercise 1: Testing the grader cell\n",
    "Every exercise you encounter in the Qiskit Fall Fest is followed by a grader cell. The grader takes the code from the exercise you just completed and passes it to a hidden auto-grader. Sometimes it will simply tell you \"right\" or \"wrong.\" However, for more complex exercises, we include hints or suggestions. Each grader cell is unique to each exercise. Make sure you run all the code cells prior to running the grader.\n",
    "\n",
    "In this first exercise, all we're doing is checking to see if the variable answer has a value which is a string.\n",
    "\n",
    "Your Task: Change the value of the variable answer to be a string. This string can be anything you like."
   ]
  },
  {
   "cell_type": "code",
   "execution_count": 8,
   "metadata": {},
   "outputs": [],
   "source": [
    "### Exercise Cell - this is where you add your own code to solve the question\n",
    "### To pass the grader, the variable answer must be a \"string\"\n",
    "\n",
    "answer = \"Hello World\""
   ]
  },
  {
   "cell_type": "markdown",
   "metadata": {},
   "source": [
    "You do not need to add any code into the grader cell. Simply run the grader cell to submit your answer.\n",
    "\n",
    "Try it out below to see if you completed Exercise 1 properly."
   ]
  },
  {
   "cell_type": "code",
   "execution_count": 9,
   "metadata": {},
   "outputs": [
    {
     "name": "stdout",
     "output_type": "stream",
     "text": [
      "Grading your answer. Please wait...\n",
      "Welcome to the Qiskit Fall Fest!🎉If you are seeing this, that means you have successfully figured out how to use the grader for these notebooks. Rock on. We at IBM Quantum look forward to your participation in this event, thanks for being here!\n"
     ]
    }
   ],
   "source": [
    "### Grader Cell - Submit your answer by running the following code\n",
    "### You do not need to add any code into this cell\n",
    "\n",
    "grade_lab1_welcome(answer)"
   ]
  },
  {
   "cell_type": "markdown",
   "metadata": {},
   "source": [
    "If you received an error, here are some potential fixes:\n",
    "\n",
    "Error: argument \"answer\" (int) is not an instance of str\n",
    "\n",
    "Solution: You need to change the value of the answer variable to be a string. A string is a word or sentence contained within quotation marks.\n",
    "Error: Failed: 401 Client Error: Unauthorized for url: https://auth.quantum.ibm.com/api/users/loginWithToken\n",
    "\n",
    "Solution: Return to the Configure your challenge environment section and properly store your API token\n",
    "Error: Failed: Unable to access service (Forbidden)\n",
    "\n",
    "Solution: You did not properly install your grader package. Restart your kernel and run all above code cells before returning here\n",
    "If you have a different error, work with the other folks at your Qiskit Fall Fest event to try and solve it!"
   ]
  },
  {
   "cell_type": "markdown",
   "metadata": {},
   "source": [
    "Generate a two-qubit Bell state using Qiskit patterns\n",
    "In this notebook we follow along with the third episode of Coding with Qiskit 1.x. This is the first graded notebook in the Qiskit Fall Fest, so you can expect it to be easy. Solving future notebooks may require much more thought and research.\n",
    "\n",
    "Our goal in this notebook is to generate a two-qubit Bell state using the approach provided by Qiskit patterns.\n",
    "\n",
    "A Qiskit pattern is a four step workflow for setting up, running, and getting results from a quantum computer. This is the workflow designed to help you use utility-scale quantum computers. It works as follows:\n",
    "\n",
    "Map circuits and operators\n",
    "Optimize the circuit\n",
    "Execute the circuit\n",
    "Post-process the results\n",
    "Hopefully that workflow seems familiar to you."
   ]
  },
  {
   "cell_type": "markdown",
   "metadata": {},
   "source": [
    "Qiskit pattern step 1: Map circuits and operators\n",
    "\n",
    "Mapping your problem to circuits and operators is fairly easy when you're only dealing with a handful of qubits, but can get more difficult as you scale up. To start, we will construct a Bell state. This is a classic (or should I say, \"quantum\") example that showcases entanglement between two qubits.\n",
    "\n",
    "First we apply a Hadamard gate to qubit 0, placing it in a superposition. Then we apply a CNOT gate between qubits 0 and 1. The CNOT effectively entangles our qubits, meaning that when we measure the output of this circuit we should expect to see that both qubits share a measurement result.\n",
    "\n",
    "If that made sense to you, nice job, you're ready to go. However, if that went over your head, the graded notebooks will be quite difficult for you. Instead, you may want to take this time to review the course on Quantum Information and Computation or attend a workshop from your Qiskit Fall Fest event."
   ]
  },
  {
   "cell_type": "code",
   "execution_count": 10,
   "metadata": {},
   "outputs": [
    {
     "data": {
      "image/png": "[encoded data removed]",
      "text/plain": [
       "<Figure size 287.294x200.667 with 1 Axes>"
      ]
     },
     "execution_count": 10,
     "metadata": {},
     "output_type": "execute_result"
    }
   ],
   "source": [
    "# Create a new circuit with two qubits\n",
    "qc = QuantumCircuit(2)\n",
    "\n",
    "# Add a Hadamard gate to qubit 0\n",
    "qc.h(0)\n",
    "\n",
    "# Perform a CNOT gate on qubit 1, controlled by qubit 0\n",
    "qc.cx(0, 1)\n",
    "\n",
    "# Return a drawing of the circuit using MatPlotLib (\"mpl\"). This is the\n",
    "# last line of the cell, so the drawing appears in the cell output.\n",
    "qc.draw(\"mpl\")"
   ]
  },
  {
   "cell_type": "markdown",
   "metadata": {},
   "source": [
    "We also want to be able to visualize that our circuit does what we expect it to do. To accomplish this, we need to set up some operators.\n",
    "\n",
    "In Exercise 2 you will see multiple operators being created. Some (like XX) measure both qubits, while others (like XI) only measure one. Later on in this notebook we will check their expectation values to make sure our Bell-state circuit is entangled as we expect.\n",
    "\n",
    "Because we've created an entangled Bell state, we should expect that our operators only measuring one qubit have an expectation value of 0. Similarly, we should expect the operators which measure both qubits to come back with some non-zero (hopefully close to 1) expectation value.\n",
    "\n",
    "So how do we actually make these operators? We simply use a combination of X, Z, and Identity (I) gates.\n",
    "\n",
    "Applying an I gate to a qubit is the same as doing nothing to a qubit. We can use a combination of X/Z and I to make the operators of XI, IX, ZI, and IZ.\n",
    "We only have two operators which measure both qubits: XX and ZZ. We use a combination of X or Z gates to make each one, respectively.\n",
    "Later on in this notebook, you will graph the expectation values for each of these operators to visualize your circuit."
   ]
  },
  {
   "cell_type": "markdown",
   "metadata": {},
   "source": [
    "Exercise 2\n",
    "In this exercise, you need to complete the list of operators. We have provided three for you already: the ZZ, ZI, and IX observables. We've also written comments in the code explaining what each observable is looking for.\n",
    "\n",
    "Your Task: Following the same approach, create the last three operators: IZ, XX, and XI"
   ]
  },
  {
   "cell_type": "code",
   "execution_count": 11,
   "metadata": {},
   "outputs": [],
   "source": [
    "# The ZZ applies a Z operator on qubit 0, and a Z operator on qubit 1\n",
    "ZZ = SparsePauliOp('ZZ')\n",
    "\n",
    "# The ZI applies a Z operator on qubit 0, and an Identity operator on qubit 1\n",
    "ZI = SparsePauliOp('ZI')\n",
    "\n",
    "# The IX applies an Identity operator on qubit 0, and an X operator on qubit 1\n",
    "IX = SparsePauliOp('IX')\n",
    "\n",
    "### Write your code below here ###\n",
    "### Follow the same naming convention we used above\n",
    "\n",
    "# The IZ applies an Identity operator on qubit 0, and a Z operator on qubit 1\n",
    "IZ = SparsePauliOp('IZ')\n",
    "\n",
    "# The XX applies an X operator on qubit 0, and an X operator on qubit 1\n",
    "XX = SparsePauliOp('XX')\n",
    "\n",
    "# The XI applies an X operator on qubit 0, and an Identity operator on qubit 1\n",
    "XI = SparsePauliOp('XI')\n",
    "\n",
    "## Don't change any code past this line, but remember to run the cell.\n",
    "\n",
    "observables = [IZ, IX, ZI, XI, ZZ, XX]"
   ]
  },
  {
   "cell_type": "code",
   "execution_count": 12,
   "metadata": {},
   "outputs": [
    {
     "name": "stdout",
     "output_type": "stream",
     "text": [
      "Grading your answer. Please wait...\n",
      "\n",
      "Congratulations 🎉! Your answer is correct.\n"
     ]
    }
   ],
   "source": [
    "# Submit your answer using following code\n",
    "\n",
    "grade_lab1_ex1(observables)"
   ]
  },
  {
   "cell_type": "markdown",
   "metadata": {},
   "source": [
    "If you got an error, here are some possible solutions:\n",
    "\n",
    "Error: NameError: name 'observables' is not defined\n",
    "\n",
    "Solution: You need to run the code cell in Exercise 2 prior to running the Grader cell\n",
    "Error: item 0 of argument \"observables\" (list) is not an instance of qiskit.quantum_info.operators.symplectic.pauli.Pauli\n",
    "\n",
    "Solution: The answers you provided were not Pauli objects. Revise your answer."
   ]
  },
  {
   "cell_type": "markdown",
   "metadata": {},
   "source": [
    "Qiskit pattern step 2: Optimize the circuit"
   ]
  },
  {
   "cell_type": "markdown",
   "metadata": {},
   "source": [
    "A Qiskit pattern is the best framework for working with a quantum computer at utility scale — the point where quantum computers can perform reliable computations at a scale beyond brute force classical computing methods. These computations can use hundreds of qubits. However, in this intro section, we're only using two qubits. So, that means we do not need to do any work here to optimize the circuit.\n",
    "\n",
    "To optimize the circuit, we can use the Qiskit transpiler. During transpilation, we can optimally layout our qubits to minimize the required number of gates, for example. You can learn more about this process in graded notebook 3. For now, you can move on to the next step of the pattern."
   ]
  },
  {
   "cell_type": "markdown",
   "metadata": {},
   "source": [
    "Qiskit pattern step 3: Execute the circuit"
   ]
  },
  {
   "cell_type": "markdown",
   "metadata": {},
   "source": [
    "Time to run the circuit.\n",
    "\n",
    "In this next cell, you might notice something new. We are going to run the circuit using the \"Estimator,\" which is a part of the Qiskit Runtime.\n",
    "\n",
    "Graded notebook 2 will cover Qiskit Runtime and the primitives in much greater detail. We won't talk about it too much here other than to say that Qiskit Runtime gives us the easiest means of running our circuit.\n",
    "\n",
    "Here we run our circuit using the Estimator, then save the results as the variable job. You may now proceed to the next and final step of Qiskit patterns, where we will visualize this information."
   ]
  },
  {
   "cell_type": "code",
   "execution_count": 13,
   "metadata": {},
   "outputs": [],
   "source": [
    "# Set up the Estimator\n",
    "estimator = Estimator(AerSimulator())\n",
    "\n",
    "# Submit the circuit to Estimator\n",
    "pub = (qc, observables)\n",
    "\n",
    "job = estimator.run(pubs=[pub])"
   ]
  },
  {
   "cell_type": "markdown",
   "metadata": {},
   "source": [
    "Qiskit pattern step 4: Post-process the results"
   ]
  },
  {
   "cell_type": "markdown",
   "metadata": {},
   "source": [
    "The last step of Qiskit patterns is where we process, analyze, and visualize the results of our job.\n",
    "\n",
    "Here we are going to collect our data and plot it on a graph we construct."
   ]
  },
  {
   "cell_type": "code",
   "execution_count": 14,
   "metadata": {},
   "outputs": [
    {
     "data": {
      "image/png": "[encoded data removed]",
      "text/plain": [
       "<Figure size 640x480 with 1 Axes>"
      ]
     },
     "metadata": {},
     "output_type": "display_data"
    }
   ],
   "source": [
    "# Collect the data\n",
    "data = ['IZ', 'IX', 'ZI', 'XI', 'ZZ', 'XX']\n",
    "values = job.result()[0].data.evs\n",
    "\n",
    "# Set up our graph\n",
    "container = plt.plot(data, values, '-o')\n",
    "\n",
    "# Label each axis\n",
    "plt.xlabel('Observables')\n",
    "plt.ylabel('Values')\n",
    "\n",
    "# Draw the final graph\n",
    "plt.show()"
   ]
  },
  {
   "cell_type": "markdown",
   "metadata": {},
   "source": [
    "You should see the operators which measure both qubits (ZZ and XX) have a value that's close to 1, and the other operators have a value that's close to 0. This shows that your circuit is entangled. Great work.\n",
    "\n",
    "The plot displays as a line graph, but you can also visualize this as a bar graph."
   ]
  },
  {
   "cell_type": "code",
   "execution_count": 15,
   "metadata": {},
   "outputs": [
    {
     "data": {
      "image/png": "[encoded data removed]",
      "text/plain": [
       "<Figure size 640x480 with 1 Axes>"
      ]
     },
     "metadata": {},
     "output_type": "display_data"
    }
   ],
   "source": [
    "container = plt.bar(data, values, width=0.8)\n",
    "\n",
    "plt.xlabel('Observables')\n",
    "plt.ylabel('Values')\n",
    "\n",
    "plt.show()"
   ]
  },
  {
   "cell_type": "markdown",
   "metadata": {},
   "source": [
    "Congratulations!\n",
    "Congratulations on making it to the end of the first Qiskit Fall Fest notebook!\n",
    "\n",
    "You learned how to follow the workflow of Qiskit patterns to set up, optimize, run, and process your circuit. You successfully created a two-qubit Bell state, and showed that it was properly entangled by visualizing the operators. You learned how to use the auto-grader as well. Rock on!\n",
    "\n",
    "With the basics down, you’re now ready to begin thinking like a quantum developer. It’s a little different than thinking like a quantum physicist, though. We’re not just making discoveries about how the world works—we’re trying to use quantum mechanics as a tool to solve meaningful problems and enact positive change in the world.\n",
    "\n",
    "We like to say we’ve entered the era of quantum utility—for the first time, quantum computers can do things beyond the abilities of brute-force classical computing. Now, we’re looking for quantum advantage, where quantum computers are the best way to solve the problem. We need you, the quantum community for that—we need to uncover and implement quantum algorithms and apply them to real-world use cases. The rest of the challenge will be devoted to that—getting you to start thinking like a quantum developer.\n",
    "\n",
    "And of course, solving problems with real-world impact means thinking about who you’re impacting and how. At IBM we hold that we must research and develop technology responsibly. To that end, quantum computing and ethics experts at IBM have been researching the societal implications of quantum computing, and our role as a quantum computing provider in mitigating potentially undesired consequences of the technology. We encourage you to learn more by reading about our Responsible Quantum Computing effort.\n",
    "\n",
    "Enjoy the rest of your Qiskit Fall Fest event, and good luck!"
   ]
  }
 ],
 "metadata": {
  "kernelspec": {
   "display_name": "venv",
   "language": "python",
   "name": "python3"
  },
  "language_info": {
   "codemirror_mode": {
    "name": "ipython",
    "version": 3
   },
   "file_extension": ".py",
   "mimetype": "text/x-python",
   "name": "python",
   "nbconvert_exporter": "python",
   "pygments_lexer": "ipython3",
   "version": "3.12.3"
  }
 },
 "nbformat": 4,
 "nbformat_minor": 2
}
